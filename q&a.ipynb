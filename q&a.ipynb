{
  "cells": [
    {
      "cell_type": "code",
      "execution_count": 13,
      "metadata": {
        "id": "4THgR1MBejtg"
      },
      "outputs": [],
      "source": [
        "!pip install -q transformers"
      ]
    },
    {
      "cell_type": "code",
      "execution_count": 14,
      "metadata": {
        "id": "qarp0wIber_I"
      },
      "outputs": [],
      "source": [
        "!pip install -q youtube_transcript_api"
      ]
    },
    {
      "cell_type": "code",
      "execution_count": 15,
      "metadata": {
        "id": "h8v57Dsle2Bd"
      },
      "outputs": [],
      "source": [
        "from transformers import pipeline\n",
        "from youtube_transcript_api import YouTubeTranscriptApi\n"
      ]
    },
    {
      "cell_type": "code",
      "execution_count": 16,
      "metadata": {
        "id": "jMO6gtfUfK0H"
      },
      "outputs": [],
      "source": [
        "youtube_vid=\"https://www.youtube.com/watch?v=YereI6Gn3bM&t=514s\""
      ]
    },
    {
      "cell_type": "code",
      "execution_count": 17,
      "metadata": {
        "id": "lIK8tFkSflGL"
      },
      "outputs": [],
      "source": [
        "vid_id=youtube_vid.split(\"=\")[1]"
      ]
    },
    {
      "cell_type": "code",
      "execution_count": 18,
      "metadata": {
        "colab": {
          "base_uri": "https://localhost:8080/",
          "height": 36
        },
        "id": "kBCxuL6Ffm0n",
        "outputId": "2f5521f1-a5a2-4ea7-b648-1fb54c210a78"
      },
      "outputs": [
        {
          "output_type": "execute_result",
          "data": {
            "text/plain": [
              "'YereI6Gn3bM&t'"
            ],
            "application/vnd.google.colaboratory.intrinsic+json": {
              "type": "string"
            }
          },
          "metadata": {},
          "execution_count": 18
        }
      ],
      "source": [
        "vid_id"
      ]
    },
    {
      "cell_type": "code",
      "execution_count": 19,
      "metadata": {
        "colab": {
          "base_uri": "https://localhost:8080/",
          "height": 322
        },
        "id": "af0wfTm9fzBR",
        "outputId": "35af41cf-e5e4-4e53-ed26-b5d7165a8f6b"
      },
      "outputs": [
        {
          "output_type": "execute_result",
          "data": {
            "text/plain": [
              "<IPython.lib.display.YouTubeVideo at 0x7f4a97623050>"
            ],
            "text/html": [
              "\n",
              "        <iframe\n",
              "            width=\"400\"\n",
              "            height=\"300\"\n",
              "            src=\"https://www.youtube.com/embed/YereI6Gn3bM&t\"\n",
              "            frameborder=\"0\"\n",
              "            allowfullscreen\n",
              "        ></iframe>\n",
              "        "
            ]
          },
          "metadata": {},
          "execution_count": 19
        }
      ],
      "source": [
        "from IPython.display import YouTubeVideo\n",
        "YouTubeVideo(vid_id)"
      ]
    },
    {
      "cell_type": "code",
      "execution_count": 20,
      "metadata": {
        "id": "J-9xLoNef9sT"
      },
      "outputs": [],
      "source": [
        "YouTubeTranscriptApi.get_transcript(vid_id)\n",
        "transcript=YouTubeTranscriptApi.get_transcript(vid_id)"
      ]
    },
    {
      "cell_type": "code",
      "execution_count": 21,
      "metadata": {
        "colab": {
          "base_uri": "https://localhost:8080/"
        },
        "id": "eZmn1AuggZef",
        "outputId": "95285ffe-8679-4780-cc2b-b82039bb6d75"
      },
      "outputs": [
        {
          "output_type": "execute_result",
          "data": {
            "text/plain": [
              "[{'text': \"speech it's the most natural form of\",\n",
              "  'start': 0.64,\n",
              "  'duration': 4.88},\n",
              " {'text': 'human communication', 'start': 3.76, 'duration': 4.24},\n",
              " {'text': 'this is my demo of a real-time speech',\n",
              "  'start': 5.52,\n",
              "  'duration': 3.68},\n",
              " {'text': 'recognition system', 'start': 8.0, 'duration': 4.32},\n",
              " {'text': 'using deep learning', 'start': 9.2, 'duration': 3.12}]"
            ]
          },
          "metadata": {},
          "execution_count": 21
        }
      ],
      "source": [
        "transcript[0:5]"
      ]
    },
    {
      "cell_type": "code",
      "execution_count": 22,
      "metadata": {
        "colab": {
          "base_uri": "https://localhost:8080/"
        },
        "id": "OgMmc0fsgyxN",
        "outputId": "47f910ab-a73f-4995-e027-d0c60763e306"
      },
      "outputs": [
        {
          "output_type": "stream",
          "name": "stdout",
          "text": [
            "14958\n"
          ]
        }
      ],
      "source": [
        "result=\"\"\n",
        "for i in transcript:\n",
        "  result+=' '+i['text']\n",
        "print(len(result))"
      ]
    },
    {
      "cell_type": "code",
      "execution_count": 23,
      "metadata": {
        "colab": {
          "base_uri": "https://localhost:8080/"
        },
        "id": "nyLzLXy2hKnV",
        "outputId": "034fcfee-7e5a-41f9-8339-dc78e67631e6"
      },
      "outputs": [
        {
          "output_type": "stream",
          "name": "stderr",
          "text": [
            "No model was supplied, defaulted to sshleifer/distilbart-cnn-12-6 and revision a4f8f3e (https://huggingface.co/sshleifer/distilbart-cnn-12-6).\n",
            "Using a pipeline without specifying a model name and revision in production is not recommended.\n"
          ]
        }
      ],
      "source": [
        "summarizer=pipeline('summarization')"
      ]
    },
    {
      "cell_type": "code",
      "execution_count": 24,
      "metadata": {
        "colab": {
          "base_uri": "https://localhost:8080/"
        },
        "id": "qkWHfhedhSpa",
        "outputId": "994a1531-513c-415c-fcc3-4ee180f59e85"
      },
      "outputs": [
        {
          "output_type": "stream",
          "name": "stdout",
          "text": [
            "[\" A real-time speech recognition system using deep learning can help solve the problem of speech recognition . We're going to build our own neural network and train the speech recognition model from scratch . This is a demo of a speech recognition using deep-learned neural networks . We'll show how deep-learning can be used to solve this problem in this video .\", ' Language itself is really complex and it has a lot of nuance and variations that you would have to come up with all possible rules for it as well to have an effective speech recognition system . So what do you do when you have like what seems like an insurmountable amount of rules you use deep learning .', ' The acoustic model will be a neural network that takes in speech waves as input and outputs to transcribe text . The neural network also needs to be lightweight in terms of memory and compute because we want to run it real time on everyday consumer machines . Recurrent neural networks or rnn are a natural fit for this task as it can process sequential data .', \" A neural network can learn is dependent on the data you train it with if we want our neural network to learn the nuances of speech we'll need speech data that has a lot of variations of gender, age accent, environmental noise and types of microphones . Common voice is an open source speech data set initiative led by mozilla .\", \" A speech recognition neural network is probabilistic so for each time step it outputs a probability of possible words . For the transcriptions we'll use something called a language model alongside a rescoring algorithm . A language model can determine what is a more likely sentence by building a probability distribution over sequences it trains on .\", \" alled ken lm which is a rules-based language model we want to use ken lem because it's lightweight and super fast unlike the much heavier neural network based language models . The beam search algorithm will traverse the outputs of the acoustic model and use the language model to build hypothesis aka beams for the final output during the beam search .\", \" Using a language model in the ctc beam search algorithm we can inject language information into the acoustic model's output which results in more accurate transcriptions . We'll need to transform the raw audio waves into what's called metal special grams . You can just think of male spectrograms as a pictorial representation of sound .\", ' The model consists of a convolutional layer three dense layer and an r and lstm layer . It learns to extract better features from the mel spectrogram and also reduce the time dimensions of the data i.i.  need to process our character labels our models will be character based meaning it will output characters instead of word probabilities decoding character probabilities is more efficient .', ' n theory they say an n layer will produce features that should be more robust causing the rnns to produce better predictions we also set the shot of the cnn layer to 2 therefore reducing the time steps of the male spectrogram by half allowing the rns to do less work because there are less time steps which would make the overall network faster .', ' The code is open source so if you want to see the full implementation details make sure you check out the GitHub repo in the description below . i use ctc loss function which makes it super easy to train speech recognition models . It can assign probabilities given an input making it possible to just have your audio sample pair with their corresponding text labels without needing to align these characters to every frame of the audio .', \" ining rig war machine war machine is my personal deep learning rig i use to train models if you're following along i recommend using a gpu so if you don't have a gpi you can use free alternatives like google collab or kaggle kernels . okay let's get to training so [Music] all right so training's finally finished it took a couple of days .\", \" The speech recognition system with the language model and the rescoring algorithm works pretty well with me but let me reveal something i haven't mentioned yet i collected about an hour of my speech and trained it with the common voice data set which is about a thousand hours . i also up sampled the one hour recording of myself to about 50 hours to be more representative in the entire training data set .\", \" Speech recognition system is not that great at least on them works really well for me that's because i biased the algorithm by adding my own data all of thi. ystem with other people well you know if it's my brother long long i need you to test this out for me real quick all right .\", \" A famous speech recognition paper from baidu claimed that you need about 11 000 hours of audio data to have an effective speech recognition system . i recommend you collect your own data using something like the mimic recording studio which is what i used . i'll also open source a pre-trained model that you can download and then you can just fine-tune that on your own .\", \" This video was part of the series of how to build your own ai voice assistant using pytorch . i have a discord server that's getting pretty active if you want a community of ai enthusiasts practitioners practitioners and hackers make sure you join the discord server . i still have the natural language understanding part which is the way to map the transcription to some sort of action like what's the weather like .\"]\n"
          ]
        }
      ],
      "source": [
        "num_iters=int(len(result)/1000)\n",
        "summarized_text=[]\n",
        "for i in range(0,num_iters+1):\n",
        "  start=0\n",
        "  start=i*1000\n",
        "  end=(i+1)*1000\n",
        "  out=summarizer(result[start:end])\n",
        "  out=out[0]\n",
        "  out=out['summary_text']\n",
        "  summarized_text.append(out)\n",
        "print(summarized_text)"
      ]
    },
    {
      "cell_type": "code",
      "execution_count": 26,
      "metadata": {
        "colab": {
          "base_uri": "https://localhost:8080/"
        },
        "id": "zCt5Q_exiN8w",
        "outputId": "ad6e50f2-4138-43ce-af03-ea27a40c749e"
      },
      "outputs": [
        {
          "output_type": "stream",
          "name": "stdout",
          "text": [
            "15\n"
          ]
        }
      ],
      "source": [
        " print(len(summarized_text))"
      ]
    },
    {
      "cell_type": "code",
      "execution_count": 27,
      "metadata": {
        "colab": {
          "base_uri": "https://localhost:8080/"
        },
        "id": "VZ2OPHyRmnEv",
        "outputId": "96dc01a1-5d20-49a9-cf76-732551c98eca"
      },
      "outputs": [
        {
          "output_type": "execute_result",
          "data": {
            "text/plain": [
              "[\" A real-time speech recognition system using deep learning can help solve the problem of speech recognition . We're going to build our own neural network and train the speech recognition model from scratch . This is a demo of a speech recognition using deep-learned neural networks . We'll show how deep-learning can be used to solve this problem in this video .\",\n",
              " ' Language itself is really complex and it has a lot of nuance and variations that you would have to come up with all possible rules for it as well to have an effective speech recognition system . So what do you do when you have like what seems like an insurmountable amount of rules you use deep learning .',\n",
              " ' The acoustic model will be a neural network that takes in speech waves as input and outputs to transcribe text . The neural network also needs to be lightweight in terms of memory and compute because we want to run it real time on everyday consumer machines . Recurrent neural networks or rnn are a natural fit for this task as it can process sequential data .',\n",
              " \" A neural network can learn is dependent on the data you train it with if we want our neural network to learn the nuances of speech we'll need speech data that has a lot of variations of gender, age accent, environmental noise and types of microphones . Common voice is an open source speech data set initiative led by mozilla .\",\n",
              " \" A speech recognition neural network is probabilistic so for each time step it outputs a probability of possible words . For the transcriptions we'll use something called a language model alongside a rescoring algorithm . A language model can determine what is a more likely sentence by building a probability distribution over sequences it trains on .\",\n",
              " \" alled ken lm which is a rules-based language model we want to use ken lem because it's lightweight and super fast unlike the much heavier neural network based language models . The beam search algorithm will traverse the outputs of the acoustic model and use the language model to build hypothesis aka beams for the final output during the beam search .\",\n",
              " \" Using a language model in the ctc beam search algorithm we can inject language information into the acoustic model's output which results in more accurate transcriptions . We'll need to transform the raw audio waves into what's called metal special grams . You can just think of male spectrograms as a pictorial representation of sound .\",\n",
              " ' The model consists of a convolutional layer three dense layer and an r and lstm layer . It learns to extract better features from the mel spectrogram and also reduce the time dimensions of the data i.i.  need to process our character labels our models will be character based meaning it will output characters instead of word probabilities decoding character probabilities is more efficient .',\n",
              " ' n theory they say an n layer will produce features that should be more robust causing the rnns to produce better predictions we also set the shot of the cnn layer to 2 therefore reducing the time steps of the male spectrogram by half allowing the rns to do less work because there are less time steps which would make the overall network faster .',\n",
              " ' The code is open source so if you want to see the full implementation details make sure you check out the GitHub repo in the description below . i use ctc loss function which makes it super easy to train speech recognition models . It can assign probabilities given an input making it possible to just have your audio sample pair with their corresponding text labels without needing to align these characters to every frame of the audio .',\n",
              " \" ining rig war machine war machine is my personal deep learning rig i use to train models if you're following along i recommend using a gpu so if you don't have a gpi you can use free alternatives like google collab or kaggle kernels . okay let's get to training so [Music] all right so training's finally finished it took a couple of days .\",\n",
              " \" The speech recognition system with the language model and the rescoring algorithm works pretty well with me but let me reveal something i haven't mentioned yet i collected about an hour of my speech and trained it with the common voice data set which is about a thousand hours . i also up sampled the one hour recording of myself to about 50 hours to be more representative in the entire training data set .\",\n",
              " \" Speech recognition system is not that great at least on them works really well for me that's because i biased the algorithm by adding my own data all of thi. ystem with other people well you know if it's my brother long long i need you to test this out for me real quick all right .\",\n",
              " \" A famous speech recognition paper from baidu claimed that you need about 11 000 hours of audio data to have an effective speech recognition system . i recommend you collect your own data using something like the mimic recording studio which is what i used . i'll also open source a pre-trained model that you can download and then you can just fine-tune that on your own .\",\n",
              " \" This video was part of the series of how to build your own ai voice assistant using pytorch . i have a discord server that's getting pretty active if you want a community of ai enthusiasts practitioners practitioners and hackers make sure you join the discord server . i still have the natural language understanding part which is the way to map the transcription to some sort of action like what's the weather like .\"]"
            ]
          },
          "metadata": {},
          "execution_count": 27
        }
      ],
      "source": [
        "summarized_text"
      ]
    },
    {
      "cell_type": "code",
      "execution_count": 28,
      "metadata": {
        "id": "2_NKYdXNmt4U"
      },
      "outputs": [],
      "source": [
        "import spacy\n",
        "from spacy.lang.en.stop_words import STOP_WORDS\n",
        "from string import punctuation\n",
        "from heapq import nlargest\n",
        "nlp=spacy.load('en_core_web_sm')\n"
      ]
    },
    {
      "cell_type": "code",
      "execution_count": 29,
      "metadata": {
        "id": "julLDqUom0NG"
      },
      "outputs": [],
      "source": [
        "def summarize_sentiment(text):\n",
        "    stopwords=list(STOP_WORDS)\n",
        "    nlp=spacy.load('en_core_web_sm')\n",
        "    doc=nlp(text)\n",
        "    tokens=[token.text for token in doc]\n",
        "    word_freq={}\n",
        "    for word in doc:\n",
        "        if word.text.lower() not in stopwords:\n",
        "            if word.text.lower() not in punctuation:\n",
        "                if word.text not in word_freq.keys():\n",
        "                    word_freq[word.text]=1\n",
        "                else:\n",
        "                    word_freq[word.text]+=1\n",
        "    max_freq=max(word_freq.values())\n",
        "    for word in word_freq.keys():\n",
        "        word_freq[word]=word_freq[word]/max_freq\n",
        "    sentence_tok=[sent for sent in doc.sents]\n",
        "    sent_scores={}\n",
        "    for sent in sentence_tok:\n",
        "        for word in sent:\n",
        "            if word.text.lower() in word_freq.keys():\n",
        "                if sent not in sent_scores.keys():\n",
        "                    sent_scores[sent]=word_freq[word.text.lower()]\n",
        "                else:\n",
        "                    sent_scores[sent]+=word_freq[word.text.lower()]\n",
        "                    \n",
        "                \n",
        "    select_len=int(len(sentence_tok)*0.22)\n",
        "    summary=nlargest(select_len,sent_scores,key=sent_scores.get)\n",
        "    final_sum=[word.text for word in summary]\n",
        "    summary=' '.join(final_sum)\n",
        "    return(summary)\n",
        "    \n",
        "    "
      ]
    },
    {
      "cell_type": "code",
      "execution_count": 30,
      "metadata": {
        "id": "F5z4_9J36xnw"
      },
      "outputs": [],
      "source": [
        "\n",
        "vid_sum=summarize_sentiment(str(summarized_text))"
      ]
    },
    {
      "cell_type": "code",
      "execution_count": 31,
      "metadata": {
        "id": "0o7aJHpD65JA"
      },
      "outputs": [],
      "source": [
        "import torch"
      ]
    },
    {
      "cell_type": "code",
      "execution_count": 32,
      "metadata": {
        "id": "uxZBvdFo8BxT",
        "colab": {
          "base_uri": "https://localhost:8080/",
          "height": 81,
          "referenced_widgets": [
            "f1333cb58ca940528380e33979d86da2",
            "7574e6de7c554253b3bb09a30ab66694",
            "7920e0b94d2d46b9be369cc04a418caa",
            "d52dceb4ece84f018da1224c4b27450e",
            "1b72776445dd491683caefc7e3056a17",
            "c75f3ba21e994e1c91a93d73990cd3df",
            "06b6bcd8b5df4c7caafe93b259194876",
            "3a86ed2aae9f4676bf60b35305b22cac",
            "78ffc15e2000438cb56eaf7cb106102f",
            "ea7db546d31e4f308174a5f58cc9f917",
            "e6e58d1307d246f5851b6968f5c176ab",
            "67de422dc0544410ab566219e35b06e4",
            "d802b765061e400892d13e3ab5043a11",
            "62ef2afdcada404f8f01d1405c504c16",
            "ff3a2d70049d49cab8fcc1e40c629674",
            "cd99fbe5d3574bec9d455b333847268e",
            "19be9ef1689c4497a3d576d258ce36db",
            "202f9d8627d24364a70ff7d7b20be47a",
            "4bc20a7ee3b44ab8a5a68295112cc0bd",
            "63dfade5ac1c4061936fe301d117277f",
            "527628eb7f2649228a2e49ddfe07408b",
            "b1442b65d6a046c9a4c3a1eeedb4ed8f"
          ]
        },
        "outputId": "47e1c95c-d86d-4956-cac7-77d0d7ccec55"
      },
      "outputs": [
        {
          "output_type": "display_data",
          "data": {
            "text/plain": [
              "Downloading:   0%|          | 0.00/443 [00:00<?, ?B/s]"
            ],
            "application/vnd.jupyter.widget-view+json": {
              "version_major": 2,
              "version_minor": 0,
              "model_id": "f1333cb58ca940528380e33979d86da2"
            }
          },
          "metadata": {}
        },
        {
          "output_type": "display_data",
          "data": {
            "text/plain": [
              "Downloading:   0%|          | 0.00/1.34G [00:00<?, ?B/s]"
            ],
            "application/vnd.jupyter.widget-view+json": {
              "version_major": 2,
              "version_minor": 0,
              "model_id": "67de422dc0544410ab566219e35b06e4"
            }
          },
          "metadata": {}
        }
      ],
      "source": [
        "from transformers import BertForQuestionAnswering\n",
        "model=BertForQuestionAnswering.from_pretrained('bert-large-uncased-whole-word-masking-finetuned-squad')"
      ]
    },
    {
      "cell_type": "code",
      "execution_count": null,
      "metadata": {
        "id": "VWtcEIBYCOnW",
        "colab": {
          "base_uri": "https://localhost:8080/",
          "height": 81,
          "referenced_widgets": [
            "e180b9207c5642829ee32b13a0523115",
            "a6be6fa9cec64a5c84ce7513f1c88a5f",
            "8f40eca258144951ac1c99f5d3772360",
            "2996e9ba2efb4265a173d61e28974f05",
            "c5fa35395fe6491fa19d933bc6f04e77",
            "12c70ad51a5149119b2d1e3eb6e479d2",
            "43594ff6a98b4c8ea233001e3207e137",
            "9a8640fbbbb64ca5ba7139f7f25e8e81",
            "57c54b9752e74634bba0cdeaab9cdab5",
            "8f47ca5ae46247b4b2e097b70e00d400",
            "36a89fc7e307492e87eb416dc7daf405",
            "4a9b82105b784391bb40bcf24d46e563",
            "a8c3f6296fb14bdba9a2cb8b8c09609d",
            "9cfc6bfe767b482bb5580afaf26d53ec",
            "90d972f55760414ca2f8f3d34bb3a712",
            "3ceaea27ecaf4981b4e46e35110c4cc2",
            "352301a4d4c842568fb121610c31d243",
            "cc6deee4fd3d458b97a15349ca1115f3",
            "18b6a73ce1734e15aa8d01e58c9cdf4e",
            "0702af8cde2646429b5233cc51cc86e2",
            "ffbac26a56b24b6b8091a62eecb7e194",
            "5375e1d777d847969ca3b5e0cf34d5bf"
          ]
        },
        "outputId": "c84ce03e-1633-4234-fad5-e36ecca004a3"
      },
      "outputs": [
        {
          "output_type": "display_data",
          "data": {
            "text/plain": [
              "Downloading:   0%|          | 0.00/232k [00:00<?, ?B/s]"
            ],
            "application/vnd.jupyter.widget-view+json": {
              "version_major": 2,
              "version_minor": 0,
              "model_id": "e180b9207c5642829ee32b13a0523115"
            }
          },
          "metadata": {}
        },
        {
          "output_type": "display_data",
          "data": {
            "text/plain": [
              "Downloading:   0%|          | 0.00/28.0 [00:00<?, ?B/s]"
            ],
            "application/vnd.jupyter.widget-view+json": {
              "version_major": 2,
              "version_minor": 0,
              "model_id": "4a9b82105b784391bb40bcf24d46e563"
            }
          },
          "metadata": {}
        }
      ],
      "source": [
        "from transformers import BertTokenizer\n",
        "\n",
        "tokenizer = BertTokenizer.from_pretrained('bert-large-uncased-whole-word-masking-finetuned-squad')\n"
      ]
    },
    {
      "cell_type": "code",
      "execution_count": null,
      "metadata": {
        "id": "MZFEIT-NBrHl"
      },
      "outputs": [],
      "source": [
        "question=\"what will n layer do?\"\n",
        "answer=\"n layer will produce features that are more robust\""
      ]
    },
    {
      "cell_type": "code",
      "execution_count": null,
      "metadata": {
        "id": "dCBpY0pnCEhZ",
        "colab": {
          "base_uri": "https://localhost:8080/"
        },
        "outputId": "d0b4ba2b-c607-4882-cec5-6cee30be93f1"
      },
      "outputs": [
        {
          "output_type": "stream",
          "name": "stdout",
          "text": [
            "The input has a total of 18 tokens.\n"
          ]
        }
      ],
      "source": [
        "input_ids = tokenizer.encode(question, answer)\n",
        "\n",
        "print('The input has a total of {:} tokens.'.format(len(input_ids)))"
      ]
    },
    {
      "cell_type": "code",
      "execution_count": null,
      "metadata": {
        "id": "tnF4QnnoCZc3"
      },
      "outputs": [],
      "source": [
        "sep_index=input_ids.index(tokenizer.sep_token_id)\n",
        "seg_a=sep_index+1\n",
        "seg_b=len(input_ids)-seg_a\n",
        "seg_ids=[0]*seg_a+[1]*seg_b\n",
        "assert len(seg_ids)==len(input_ids)"
      ]
    },
    {
      "cell_type": "code",
      "execution_count": null,
      "metadata": {
        "id": "JCg-I-S6CbRP"
      },
      "outputs": [],
      "source": [
        "output=model(torch.tensor([input_ids]),torch.tensor([seg_ids]),return_dict=True)\n",
        "start_score=output.start_logits\n",
        "end_score=output.end_logits"
      ]
    },
    {
      "cell_type": "code",
      "execution_count": null,
      "metadata": {
        "id": "WQiGYkdPCkv6"
      },
      "outputs": [],
      "source": [
        "def answer_question(question, answer_text):\n",
        "    input_ids = tokenizer.encode(question, answer_text)\n",
        "    print('Query has {:,} tokens.\\n'.format(len(input_ids)))\n",
        "    sep_index = input_ids.index(tokenizer.sep_token_id)\n",
        "    num_seg_a = sep_index + 1\n",
        "    num_seg_b = len(input_ids) - num_seg_a\n",
        "    segment_ids = [0]*num_seg_a + [1]*num_seg_b\n",
        "    assert len(segment_ids) == len(input_ids)\n",
        "    outputs = model(torch.tensor([input_ids]),token_type_ids=torch.tensor([segment_ids]),return_dict=True) \n",
        "    start_scores = outputs.start_logits\n",
        "    end_scores = outputs.end_logits\n",
        "    answer_start = torch.argmax(start_scores)\n",
        "    answer_end = torch.argmax(end_scores)\n",
        "    tokens = tokenizer.convert_ids_to_tokens(input_ids)\n",
        "    answer = tokens[answer_start]\n",
        "    for i in range(answer_start + 1, answer_end + 1):\n",
        "        if tokens[i][0:2] == '##':\n",
        "            answer += tokens[i][2:]\n",
        "        else:\n",
        "            answer += ' ' + tokens[i]\n",
        "    print('Answer: \"' + answer + '\"')"
      ]
    },
    {
      "cell_type": "code",
      "execution_count": null,
      "metadata": {
        "id": "KYSsH7zODHbY",
        "colab": {
          "base_uri": "https://localhost:8080/"
        },
        "outputId": "a29a840a-acfa-4d3b-9ec5-dd260ca7af82"
      },
      "outputs": [
        {
          "output_type": "stream",
          "name": "stdout",
          "text": [
            "It learns to extract better features from the mel spectrogram and also reduce\n",
            "the time dimensions of the data i.i.  need to process our character labels our\n",
            "models will be character based meaning it will output characters instead of word\n",
            "probabilities decoding character probabilities is more efficient .', ' n theory\n",
            "they say an n layer will produce features that should be more robust causing the\n",
            "rnns to produce better predictions we also set the shot of the cnn layer to 2\n",
            "therefore reducing the time steps of the male spectrogram by half allowing the\n",
            "rns to do less work because there are less time steps which would make the\n",
            "overall network faster .', ' The code is open source Recurrent neural networks\n",
            "or rnn are a natural fit for this task as it can process sequential data .', \" A\n",
            "neural network can learn is dependent on the data you train it with if we want\n",
            "our neural network to learn the nuances of speech we'll need speech data that\n",
            "has a lot of variations of gender, age accent, environmental noise and types of\n",
            "microphones . \", \" The speech recognition system with the language model and the\n",
            "rescoring algorithm works pretty well with me but let me reveal something i\n",
            "haven't mentioned yet i collected about an hour of my speech and trained it with\n",
            "the common voice data set which is about a thousand hours . It can assign\n",
            "probabilities given an input making it possible to just have your audio sample\n",
            "pair with their corresponding text labels without needing to align these\n",
            "characters to every frame of the audio .', \" ining rig war machine war machine\n",
            "is my personal deep learning rig i use to train models if you're following along\n",
            "i recommend using a gpu so if you don't have a gpi you can use free alternatives\n",
            "like google collab or kaggle kernels . So what do you do when you have like what\n",
            "seems like an insurmountable amount of rules you use deep learning .', ' The\n",
            "acoustic model will be a neural network that takes in speech waves as input and\n",
            "outputs to transcribe text . \", \" A famous speech recognition paper from baidu\n",
            "claimed that you need about 11 000 hours of audio data to have an effective\n",
            "speech recognition system . \", \" alled ken lm which is a rules-based language\n",
            "model we want to use ken lem because it's lightweight and super fast unlike the\n",
            "much heavier neural network based language models .\n"
          ]
        }
      ],
      "source": [
        "import textwrap\n",
        "wrapper = textwrap.TextWrapper(width=80) \n",
        "bert_abstract = summarize_sentiment(str(summarized_text))\n",
        "print(wrapper.fill(bert_abstract))"
      ]
    },
    {
      "cell_type": "code",
      "execution_count": null,
      "metadata": {
        "id": "hhjx86WtDUFE",
        "colab": {
          "base_uri": "https://localhost:8080/"
        },
        "outputId": "8bea1deb-c8f9-4c49-c6a9-6e5e0a506e39"
      },
      "outputs": [
        {
          "output_type": "stream",
          "name": "stdout",
          "text": [
            "Query has 498 tokens.\n",
            "\n",
            "Answer: \"takes in speech waves as input and outputs to transcribe text\"\n"
          ]
        }
      ],
      "source": [
        "question = \"What does neural network do?\"\n",
        "\n",
        "answer_question(question, bert_abstract)"
      ]
    },
    {
      "cell_type": "code",
      "execution_count": null,
      "metadata": {
        "id": "YKB-_Mq4Dh3R",
        "colab": {
          "base_uri": "https://localhost:8080/"
        },
        "outputId": "bfe53e42-bd95-43c0-ff5f-22ed6ee15978"
      },
      "outputs": [
        {
          "output_type": "stream",
          "name": "stdout",
          "text": [
            "Query has 499 tokens.\n",
            "\n",
            "Answer: \"if you don ' t have a gpi you can use free alternatives like google collab or kaggle kernels . so what do you do when you have like what seems like an insurmountable amount of rules\"\n"
          ]
        }
      ],
      "source": [
        "question=\"why do we use deep learning?\"\n",
        "answer_question(question,bert_abstract)"
      ]
    },
    {
      "cell_type": "code",
      "execution_count": null,
      "metadata": {
        "id": "_stsg_gBZL-Y",
        "colab": {
          "base_uri": "https://localhost:8080/"
        },
        "outputId": "865afc43-861e-4696-c167-fbd598460349"
      },
      "outputs": [
        {
          "output_type": "stream",
          "name": "stdout",
          "text": [
            "Query has 498 tokens.\n",
            "\n",
            "Answer: \"speech recognition paper from baidu claimed that you need about 11 000 hours of audio data to have an effective speech recognition system\"\n"
          ]
        }
      ],
      "source": [
        "question = \"What did baidu do?\"\n",
        "\n",
        "answer_question(question, bert_abstract)"
      ]
    },
    {
      "cell_type": "code",
      "execution_count": null,
      "metadata": {
        "id": "WdRKsiMzZcls",
        "colab": {
          "base_uri": "https://localhost:8080/"
        },
        "outputId": "ef2d765c-5b86-4ab9-b6e0-71cf67ae42c0"
      },
      "outputs": [
        {
          "output_type": "stream",
          "name": "stdout",
          "text": [
            "Query has 500 tokens.\n",
            "\n",
            "Answer: \"gender , age accent , environmental noise and types of microphones\"\n"
          ]
        }
      ],
      "source": [
        "question = \"What are the variations in speech text?\"\n",
        "\n",
        "answer_question(question, bert_abstract)"
      ]
    },
    {
      "cell_type": "code",
      "execution_count": null,
      "metadata": {
        "id": "V__9MnbqmcWH",
        "colab": {
          "base_uri": "https://localhost:8080/"
        },
        "outputId": "84015445-8526-4a9c-d3ae-c9a826bf154b"
      },
      "outputs": [
        {
          "output_type": "stream",
          "name": "stdout",
          "text": [
            "Query has 503 tokens.\n",
            "\n",
            "Answer: \"11 000 hours\"\n"
          ]
        }
      ],
      "source": [
        "question = \"how much hours of audio required for effective speech recognition ?\"\n",
        "\n",
        "answer_question(question, bert_abstract)"
      ]
    },
    {
      "cell_type": "code",
      "source": [
        "question = \"What is this speech is about ?\"\n",
        "\n",
        "answer_question(question, bert_abstract)"
      ],
      "metadata": {
        "colab": {
          "base_uri": "https://localhost:8080/"
        },
        "id": "_imcCKmXy6WF",
        "outputId": "110f3c84-b539-42b4-c14a-4be8a6680a03"
      },
      "execution_count": null,
      "outputs": [
        {
          "output_type": "stream",
          "name": "stdout",
          "text": [
            "Query has 499 tokens.\n",
            "\n",
            "Answer: \"[CLS]\"\n"
          ]
        }
      ]
    },
    {
      "cell_type": "code",
      "source": [],
      "metadata": {
        "id": "1LF6cTavzOlL"
      },
      "execution_count": null,
      "outputs": []
    }
  ],
  "metadata": {
    "colab": {
      "collapsed_sections": [],
      "provenance": []
    },
    "kernelspec": {
      "display_name": "Python 3",
      "name": "python3"
    },
    "language_info": {
      "name": "python"
    },
    "widgets": {
      "application/vnd.jupyter.widget-state+json": {
        "e180b9207c5642829ee32b13a0523115": {
          "model_module": "@jupyter-widgets/controls",
          "model_name": "HBoxModel",
          "model_module_version": "1.5.0",
          "state": {
            "_dom_classes": [],
            "_model_module": "@jupyter-widgets/controls",
            "_model_module_version": "1.5.0",
            "_model_name": "HBoxModel",
            "_view_count": null,
            "_view_module": "@jupyter-widgets/controls",
            "_view_module_version": "1.5.0",
            "_view_name": "HBoxView",
            "box_style": "",
            "children": [
              "IPY_MODEL_a6be6fa9cec64a5c84ce7513f1c88a5f",
              "IPY_MODEL_8f40eca258144951ac1c99f5d3772360",
              "IPY_MODEL_2996e9ba2efb4265a173d61e28974f05"
            ],
            "layout": "IPY_MODEL_c5fa35395fe6491fa19d933bc6f04e77"
          }
        },
        "a6be6fa9cec64a5c84ce7513f1c88a5f": {
          "model_module": "@jupyter-widgets/controls",
          "model_name": "HTMLModel",
          "model_module_version": "1.5.0",
          "state": {
            "_dom_classes": [],
            "_model_module": "@jupyter-widgets/controls",
            "_model_module_version": "1.5.0",
            "_model_name": "HTMLModel",
            "_view_count": null,
            "_view_module": "@jupyter-widgets/controls",
            "_view_module_version": "1.5.0",
            "_view_name": "HTMLView",
            "description": "",
            "description_tooltip": null,
            "layout": "IPY_MODEL_12c70ad51a5149119b2d1e3eb6e479d2",
            "placeholder": "​",
            "style": "IPY_MODEL_43594ff6a98b4c8ea233001e3207e137",
            "value": "Downloading: 100%"
          }
        },
        "8f40eca258144951ac1c99f5d3772360": {
          "model_module": "@jupyter-widgets/controls",
          "model_name": "FloatProgressModel",
          "model_module_version": "1.5.0",
          "state": {
            "_dom_classes": [],
            "_model_module": "@jupyter-widgets/controls",
            "_model_module_version": "1.5.0",
            "_model_name": "FloatProgressModel",
            "_view_count": null,
            "_view_module": "@jupyter-widgets/controls",
            "_view_module_version": "1.5.0",
            "_view_name": "ProgressView",
            "bar_style": "success",
            "description": "",
            "description_tooltip": null,
            "layout": "IPY_MODEL_9a8640fbbbb64ca5ba7139f7f25e8e81",
            "max": 231508,
            "min": 0,
            "orientation": "horizontal",
            "style": "IPY_MODEL_57c54b9752e74634bba0cdeaab9cdab5",
            "value": 231508
          }
        },
        "2996e9ba2efb4265a173d61e28974f05": {
          "model_module": "@jupyter-widgets/controls",
          "model_name": "HTMLModel",
          "model_module_version": "1.5.0",
          "state": {
            "_dom_classes": [],
            "_model_module": "@jupyter-widgets/controls",
            "_model_module_version": "1.5.0",
            "_model_name": "HTMLModel",
            "_view_count": null,
            "_view_module": "@jupyter-widgets/controls",
            "_view_module_version": "1.5.0",
            "_view_name": "HTMLView",
            "description": "",
            "description_tooltip": null,
            "layout": "IPY_MODEL_8f47ca5ae46247b4b2e097b70e00d400",
            "placeholder": "​",
            "style": "IPY_MODEL_36a89fc7e307492e87eb416dc7daf405",
            "value": " 232k/232k [00:00&lt;00:00, 743kB/s]"
          }
        },
        "c5fa35395fe6491fa19d933bc6f04e77": {
          "model_module": "@jupyter-widgets/base",
          "model_name": "LayoutModel",
          "model_module_version": "1.2.0",
          "state": {
            "_model_module": "@jupyter-widgets/base",
            "_model_module_version": "1.2.0",
            "_model_name": "LayoutModel",
            "_view_count": null,
            "_view_module": "@jupyter-widgets/base",
            "_view_module_version": "1.2.0",
            "_view_name": "LayoutView",
            "align_content": null,
            "align_items": null,
            "align_self": null,
            "border": null,
            "bottom": null,
            "display": null,
            "flex": null,
            "flex_flow": null,
            "grid_area": null,
            "grid_auto_columns": null,
            "grid_auto_flow": null,
            "grid_auto_rows": null,
            "grid_column": null,
            "grid_gap": null,
            "grid_row": null,
            "grid_template_areas": null,
            "grid_template_columns": null,
            "grid_template_rows": null,
            "height": null,
            "justify_content": null,
            "justify_items": null,
            "left": null,
            "margin": null,
            "max_height": null,
            "max_width": null,
            "min_height": null,
            "min_width": null,
            "object_fit": null,
            "object_position": null,
            "order": null,
            "overflow": null,
            "overflow_x": null,
            "overflow_y": null,
            "padding": null,
            "right": null,
            "top": null,
            "visibility": null,
            "width": null
          }
        },
        "12c70ad51a5149119b2d1e3eb6e479d2": {
          "model_module": "@jupyter-widgets/base",
          "model_name": "LayoutModel",
          "model_module_version": "1.2.0",
          "state": {
            "_model_module": "@jupyter-widgets/base",
            "_model_module_version": "1.2.0",
            "_model_name": "LayoutModel",
            "_view_count": null,
            "_view_module": "@jupyter-widgets/base",
            "_view_module_version": "1.2.0",
            "_view_name": "LayoutView",
            "align_content": null,
            "align_items": null,
            "align_self": null,
            "border": null,
            "bottom": null,
            "display": null,
            "flex": null,
            "flex_flow": null,
            "grid_area": null,
            "grid_auto_columns": null,
            "grid_auto_flow": null,
            "grid_auto_rows": null,
            "grid_column": null,
            "grid_gap": null,
            "grid_row": null,
            "grid_template_areas": null,
            "grid_template_columns": null,
            "grid_template_rows": null,
            "height": null,
            "justify_content": null,
            "justify_items": null,
            "left": null,
            "margin": null,
            "max_height": null,
            "max_width": null,
            "min_height": null,
            "min_width": null,
            "object_fit": null,
            "object_position": null,
            "order": null,
            "overflow": null,
            "overflow_x": null,
            "overflow_y": null,
            "padding": null,
            "right": null,
            "top": null,
            "visibility": null,
            "width": null
          }
        },
        "43594ff6a98b4c8ea233001e3207e137": {
          "model_module": "@jupyter-widgets/controls",
          "model_name": "DescriptionStyleModel",
          "model_module_version": "1.5.0",
          "state": {
            "_model_module": "@jupyter-widgets/controls",
            "_model_module_version": "1.5.0",
            "_model_name": "DescriptionStyleModel",
            "_view_count": null,
            "_view_module": "@jupyter-widgets/base",
            "_view_module_version": "1.2.0",
            "_view_name": "StyleView",
            "description_width": ""
          }
        },
        "9a8640fbbbb64ca5ba7139f7f25e8e81": {
          "model_module": "@jupyter-widgets/base",
          "model_name": "LayoutModel",
          "model_module_version": "1.2.0",
          "state": {
            "_model_module": "@jupyter-widgets/base",
            "_model_module_version": "1.2.0",
            "_model_name": "LayoutModel",
            "_view_count": null,
            "_view_module": "@jupyter-widgets/base",
            "_view_module_version": "1.2.0",
            "_view_name": "LayoutView",
            "align_content": null,
            "align_items": null,
            "align_self": null,
            "border": null,
            "bottom": null,
            "display": null,
            "flex": null,
            "flex_flow": null,
            "grid_area": null,
            "grid_auto_columns": null,
            "grid_auto_flow": null,
            "grid_auto_rows": null,
            "grid_column": null,
            "grid_gap": null,
            "grid_row": null,
            "grid_template_areas": null,
            "grid_template_columns": null,
            "grid_template_rows": null,
            "height": null,
            "justify_content": null,
            "justify_items": null,
            "left": null,
            "margin": null,
            "max_height": null,
            "max_width": null,
            "min_height": null,
            "min_width": null,
            "object_fit": null,
            "object_position": null,
            "order": null,
            "overflow": null,
            "overflow_x": null,
            "overflow_y": null,
            "padding": null,
            "right": null,
            "top": null,
            "visibility": null,
            "width": null
          }
        },
        "57c54b9752e74634bba0cdeaab9cdab5": {
          "model_module": "@jupyter-widgets/controls",
          "model_name": "ProgressStyleModel",
          "model_module_version": "1.5.0",
          "state": {
            "_model_module": "@jupyter-widgets/controls",
            "_model_module_version": "1.5.0",
            "_model_name": "ProgressStyleModel",
            "_view_count": null,
            "_view_module": "@jupyter-widgets/base",
            "_view_module_version": "1.2.0",
            "_view_name": "StyleView",
            "bar_color": null,
            "description_width": ""
          }
        },
        "8f47ca5ae46247b4b2e097b70e00d400": {
          "model_module": "@jupyter-widgets/base",
          "model_name": "LayoutModel",
          "model_module_version": "1.2.0",
          "state": {
            "_model_module": "@jupyter-widgets/base",
            "_model_module_version": "1.2.0",
            "_model_name": "LayoutModel",
            "_view_count": null,
            "_view_module": "@jupyter-widgets/base",
            "_view_module_version": "1.2.0",
            "_view_name": "LayoutView",
            "align_content": null,
            "align_items": null,
            "align_self": null,
            "border": null,
            "bottom": null,
            "display": null,
            "flex": null,
            "flex_flow": null,
            "grid_area": null,
            "grid_auto_columns": null,
            "grid_auto_flow": null,
            "grid_auto_rows": null,
            "grid_column": null,
            "grid_gap": null,
            "grid_row": null,
            "grid_template_areas": null,
            "grid_template_columns": null,
            "grid_template_rows": null,
            "height": null,
            "justify_content": null,
            "justify_items": null,
            "left": null,
            "margin": null,
            "max_height": null,
            "max_width": null,
            "min_height": null,
            "min_width": null,
            "object_fit": null,
            "object_position": null,
            "order": null,
            "overflow": null,
            "overflow_x": null,
            "overflow_y": null,
            "padding": null,
            "right": null,
            "top": null,
            "visibility": null,
            "width": null
          }
        },
        "36a89fc7e307492e87eb416dc7daf405": {
          "model_module": "@jupyter-widgets/controls",
          "model_name": "DescriptionStyleModel",
          "model_module_version": "1.5.0",
          "state": {
            "_model_module": "@jupyter-widgets/controls",
            "_model_module_version": "1.5.0",
            "_model_name": "DescriptionStyleModel",
            "_view_count": null,
            "_view_module": "@jupyter-widgets/base",
            "_view_module_version": "1.2.0",
            "_view_name": "StyleView",
            "description_width": ""
          }
        },
        "4a9b82105b784391bb40bcf24d46e563": {
          "model_module": "@jupyter-widgets/controls",
          "model_name": "HBoxModel",
          "model_module_version": "1.5.0",
          "state": {
            "_dom_classes": [],
            "_model_module": "@jupyter-widgets/controls",
            "_model_module_version": "1.5.0",
            "_model_name": "HBoxModel",
            "_view_count": null,
            "_view_module": "@jupyter-widgets/controls",
            "_view_module_version": "1.5.0",
            "_view_name": "HBoxView",
            "box_style": "",
            "children": [
              "IPY_MODEL_a8c3f6296fb14bdba9a2cb8b8c09609d",
              "IPY_MODEL_9cfc6bfe767b482bb5580afaf26d53ec",
              "IPY_MODEL_90d972f55760414ca2f8f3d34bb3a712"
            ],
            "layout": "IPY_MODEL_3ceaea27ecaf4981b4e46e35110c4cc2"
          }
        },
        "a8c3f6296fb14bdba9a2cb8b8c09609d": {
          "model_module": "@jupyter-widgets/controls",
          "model_name": "HTMLModel",
          "model_module_version": "1.5.0",
          "state": {
            "_dom_classes": [],
            "_model_module": "@jupyter-widgets/controls",
            "_model_module_version": "1.5.0",
            "_model_name": "HTMLModel",
            "_view_count": null,
            "_view_module": "@jupyter-widgets/controls",
            "_view_module_version": "1.5.0",
            "_view_name": "HTMLView",
            "description": "",
            "description_tooltip": null,
            "layout": "IPY_MODEL_352301a4d4c842568fb121610c31d243",
            "placeholder": "​",
            "style": "IPY_MODEL_cc6deee4fd3d458b97a15349ca1115f3",
            "value": "Downloading: 100%"
          }
        },
        "9cfc6bfe767b482bb5580afaf26d53ec": {
          "model_module": "@jupyter-widgets/controls",
          "model_name": "FloatProgressModel",
          "model_module_version": "1.5.0",
          "state": {
            "_dom_classes": [],
            "_model_module": "@jupyter-widgets/controls",
            "_model_module_version": "1.5.0",
            "_model_name": "FloatProgressModel",
            "_view_count": null,
            "_view_module": "@jupyter-widgets/controls",
            "_view_module_version": "1.5.0",
            "_view_name": "ProgressView",
            "bar_style": "success",
            "description": "",
            "description_tooltip": null,
            "layout": "IPY_MODEL_18b6a73ce1734e15aa8d01e58c9cdf4e",
            "max": 28,
            "min": 0,
            "orientation": "horizontal",
            "style": "IPY_MODEL_0702af8cde2646429b5233cc51cc86e2",
            "value": 28
          }
        },
        "90d972f55760414ca2f8f3d34bb3a712": {
          "model_module": "@jupyter-widgets/controls",
          "model_name": "HTMLModel",
          "model_module_version": "1.5.0",
          "state": {
            "_dom_classes": [],
            "_model_module": "@jupyter-widgets/controls",
            "_model_module_version": "1.5.0",
            "_model_name": "HTMLModel",
            "_view_count": null,
            "_view_module": "@jupyter-widgets/controls",
            "_view_module_version": "1.5.0",
            "_view_name": "HTMLView",
            "description": "",
            "description_tooltip": null,
            "layout": "IPY_MODEL_ffbac26a56b24b6b8091a62eecb7e194",
            "placeholder": "​",
            "style": "IPY_MODEL_5375e1d777d847969ca3b5e0cf34d5bf",
            "value": " 28.0/28.0 [00:00&lt;00:00, 514B/s]"
          }
        },
        "3ceaea27ecaf4981b4e46e35110c4cc2": {
          "model_module": "@jupyter-widgets/base",
          "model_name": "LayoutModel",
          "model_module_version": "1.2.0",
          "state": {
            "_model_module": "@jupyter-widgets/base",
            "_model_module_version": "1.2.0",
            "_model_name": "LayoutModel",
            "_view_count": null,
            "_view_module": "@jupyter-widgets/base",
            "_view_module_version": "1.2.0",
            "_view_name": "LayoutView",
            "align_content": null,
            "align_items": null,
            "align_self": null,
            "border": null,
            "bottom": null,
            "display": null,
            "flex": null,
            "flex_flow": null,
            "grid_area": null,
            "grid_auto_columns": null,
            "grid_auto_flow": null,
            "grid_auto_rows": null,
            "grid_column": null,
            "grid_gap": null,
            "grid_row": null,
            "grid_template_areas": null,
            "grid_template_columns": null,
            "grid_template_rows": null,
            "height": null,
            "justify_content": null,
            "justify_items": null,
            "left": null,
            "margin": null,
            "max_height": null,
            "max_width": null,
            "min_height": null,
            "min_width": null,
            "object_fit": null,
            "object_position": null,
            "order": null,
            "overflow": null,
            "overflow_x": null,
            "overflow_y": null,
            "padding": null,
            "right": null,
            "top": null,
            "visibility": null,
            "width": null
          }
        },
        "352301a4d4c842568fb121610c31d243": {
          "model_module": "@jupyter-widgets/base",
          "model_name": "LayoutModel",
          "model_module_version": "1.2.0",
          "state": {
            "_model_module": "@jupyter-widgets/base",
            "_model_module_version": "1.2.0",
            "_model_name": "LayoutModel",
            "_view_count": null,
            "_view_module": "@jupyter-widgets/base",
            "_view_module_version": "1.2.0",
            "_view_name": "LayoutView",
            "align_content": null,
            "align_items": null,
            "align_self": null,
            "border": null,
            "bottom": null,
            "display": null,
            "flex": null,
            "flex_flow": null,
            "grid_area": null,
            "grid_auto_columns": null,
            "grid_auto_flow": null,
            "grid_auto_rows": null,
            "grid_column": null,
            "grid_gap": null,
            "grid_row": null,
            "grid_template_areas": null,
            "grid_template_columns": null,
            "grid_template_rows": null,
            "height": null,
            "justify_content": null,
            "justify_items": null,
            "left": null,
            "margin": null,
            "max_height": null,
            "max_width": null,
            "min_height": null,
            "min_width": null,
            "object_fit": null,
            "object_position": null,
            "order": null,
            "overflow": null,
            "overflow_x": null,
            "overflow_y": null,
            "padding": null,
            "right": null,
            "top": null,
            "visibility": null,
            "width": null
          }
        },
        "cc6deee4fd3d458b97a15349ca1115f3": {
          "model_module": "@jupyter-widgets/controls",
          "model_name": "DescriptionStyleModel",
          "model_module_version": "1.5.0",
          "state": {
            "_model_module": "@jupyter-widgets/controls",
            "_model_module_version": "1.5.0",
            "_model_name": "DescriptionStyleModel",
            "_view_count": null,
            "_view_module": "@jupyter-widgets/base",
            "_view_module_version": "1.2.0",
            "_view_name": "StyleView",
            "description_width": ""
          }
        },
        "18b6a73ce1734e15aa8d01e58c9cdf4e": {
          "model_module": "@jupyter-widgets/base",
          "model_name": "LayoutModel",
          "model_module_version": "1.2.0",
          "state": {
            "_model_module": "@jupyter-widgets/base",
            "_model_module_version": "1.2.0",
            "_model_name": "LayoutModel",
            "_view_count": null,
            "_view_module": "@jupyter-widgets/base",
            "_view_module_version": "1.2.0",
            "_view_name": "LayoutView",
            "align_content": null,
            "align_items": null,
            "align_self": null,
            "border": null,
            "bottom": null,
            "display": null,
            "flex": null,
            "flex_flow": null,
            "grid_area": null,
            "grid_auto_columns": null,
            "grid_auto_flow": null,
            "grid_auto_rows": null,
            "grid_column": null,
            "grid_gap": null,
            "grid_row": null,
            "grid_template_areas": null,
            "grid_template_columns": null,
            "grid_template_rows": null,
            "height": null,
            "justify_content": null,
            "justify_items": null,
            "left": null,
            "margin": null,
            "max_height": null,
            "max_width": null,
            "min_height": null,
            "min_width": null,
            "object_fit": null,
            "object_position": null,
            "order": null,
            "overflow": null,
            "overflow_x": null,
            "overflow_y": null,
            "padding": null,
            "right": null,
            "top": null,
            "visibility": null,
            "width": null
          }
        },
        "0702af8cde2646429b5233cc51cc86e2": {
          "model_module": "@jupyter-widgets/controls",
          "model_name": "ProgressStyleModel",
          "model_module_version": "1.5.0",
          "state": {
            "_model_module": "@jupyter-widgets/controls",
            "_model_module_version": "1.5.0",
            "_model_name": "ProgressStyleModel",
            "_view_count": null,
            "_view_module": "@jupyter-widgets/base",
            "_view_module_version": "1.2.0",
            "_view_name": "StyleView",
            "bar_color": null,
            "description_width": ""
          }
        },
        "ffbac26a56b24b6b8091a62eecb7e194": {
          "model_module": "@jupyter-widgets/base",
          "model_name": "LayoutModel",
          "model_module_version": "1.2.0",
          "state": {
            "_model_module": "@jupyter-widgets/base",
            "_model_module_version": "1.2.0",
            "_model_name": "LayoutModel",
            "_view_count": null,
            "_view_module": "@jupyter-widgets/base",
            "_view_module_version": "1.2.0",
            "_view_name": "LayoutView",
            "align_content": null,
            "align_items": null,
            "align_self": null,
            "border": null,
            "bottom": null,
            "display": null,
            "flex": null,
            "flex_flow": null,
            "grid_area": null,
            "grid_auto_columns": null,
            "grid_auto_flow": null,
            "grid_auto_rows": null,
            "grid_column": null,
            "grid_gap": null,
            "grid_row": null,
            "grid_template_areas": null,
            "grid_template_columns": null,
            "grid_template_rows": null,
            "height": null,
            "justify_content": null,
            "justify_items": null,
            "left": null,
            "margin": null,
            "max_height": null,
            "max_width": null,
            "min_height": null,
            "min_width": null,
            "object_fit": null,
            "object_position": null,
            "order": null,
            "overflow": null,
            "overflow_x": null,
            "overflow_y": null,
            "padding": null,
            "right": null,
            "top": null,
            "visibility": null,
            "width": null
          }
        },
        "5375e1d777d847969ca3b5e0cf34d5bf": {
          "model_module": "@jupyter-widgets/controls",
          "model_name": "DescriptionStyleModel",
          "model_module_version": "1.5.0",
          "state": {
            "_model_module": "@jupyter-widgets/controls",
            "_model_module_version": "1.5.0",
            "_model_name": "DescriptionStyleModel",
            "_view_count": null,
            "_view_module": "@jupyter-widgets/base",
            "_view_module_version": "1.2.0",
            "_view_name": "StyleView",
            "description_width": ""
          }
        },
        "f1333cb58ca940528380e33979d86da2": {
          "model_module": "@jupyter-widgets/controls",
          "model_name": "HBoxModel",
          "model_module_version": "1.5.0",
          "state": {
            "_dom_classes": [],
            "_model_module": "@jupyter-widgets/controls",
            "_model_module_version": "1.5.0",
            "_model_name": "HBoxModel",
            "_view_count": null,
            "_view_module": "@jupyter-widgets/controls",
            "_view_module_version": "1.5.0",
            "_view_name": "HBoxView",
            "box_style": "",
            "children": [
              "IPY_MODEL_7574e6de7c554253b3bb09a30ab66694",
              "IPY_MODEL_7920e0b94d2d46b9be369cc04a418caa",
              "IPY_MODEL_d52dceb4ece84f018da1224c4b27450e"
            ],
            "layout": "IPY_MODEL_1b72776445dd491683caefc7e3056a17"
          }
        },
        "7574e6de7c554253b3bb09a30ab66694": {
          "model_module": "@jupyter-widgets/controls",
          "model_name": "HTMLModel",
          "model_module_version": "1.5.0",
          "state": {
            "_dom_classes": [],
            "_model_module": "@jupyter-widgets/controls",
            "_model_module_version": "1.5.0",
            "_model_name": "HTMLModel",
            "_view_count": null,
            "_view_module": "@jupyter-widgets/controls",
            "_view_module_version": "1.5.0",
            "_view_name": "HTMLView",
            "description": "",
            "description_tooltip": null,
            "layout": "IPY_MODEL_c75f3ba21e994e1c91a93d73990cd3df",
            "placeholder": "​",
            "style": "IPY_MODEL_06b6bcd8b5df4c7caafe93b259194876",
            "value": "Downloading: 100%"
          }
        },
        "7920e0b94d2d46b9be369cc04a418caa": {
          "model_module": "@jupyter-widgets/controls",
          "model_name": "FloatProgressModel",
          "model_module_version": "1.5.0",
          "state": {
            "_dom_classes": [],
            "_model_module": "@jupyter-widgets/controls",
            "_model_module_version": "1.5.0",
            "_model_name": "FloatProgressModel",
            "_view_count": null,
            "_view_module": "@jupyter-widgets/controls",
            "_view_module_version": "1.5.0",
            "_view_name": "ProgressView",
            "bar_style": "success",
            "description": "",
            "description_tooltip": null,
            "layout": "IPY_MODEL_3a86ed2aae9f4676bf60b35305b22cac",
            "max": 443,
            "min": 0,
            "orientation": "horizontal",
            "style": "IPY_MODEL_78ffc15e2000438cb56eaf7cb106102f",
            "value": 443
          }
        },
        "d52dceb4ece84f018da1224c4b27450e": {
          "model_module": "@jupyter-widgets/controls",
          "model_name": "HTMLModel",
          "model_module_version": "1.5.0",
          "state": {
            "_dom_classes": [],
            "_model_module": "@jupyter-widgets/controls",
            "_model_module_version": "1.5.0",
            "_model_name": "HTMLModel",
            "_view_count": null,
            "_view_module": "@jupyter-widgets/controls",
            "_view_module_version": "1.5.0",
            "_view_name": "HTMLView",
            "description": "",
            "description_tooltip": null,
            "layout": "IPY_MODEL_ea7db546d31e4f308174a5f58cc9f917",
            "placeholder": "​",
            "style": "IPY_MODEL_e6e58d1307d246f5851b6968f5c176ab",
            "value": " 443/443 [00:00&lt;00:00, 10.6kB/s]"
          }
        },
        "1b72776445dd491683caefc7e3056a17": {
          "model_module": "@jupyter-widgets/base",
          "model_name": "LayoutModel",
          "model_module_version": "1.2.0",
          "state": {
            "_model_module": "@jupyter-widgets/base",
            "_model_module_version": "1.2.0",
            "_model_name": "LayoutModel",
            "_view_count": null,
            "_view_module": "@jupyter-widgets/base",
            "_view_module_version": "1.2.0",
            "_view_name": "LayoutView",
            "align_content": null,
            "align_items": null,
            "align_self": null,
            "border": null,
            "bottom": null,
            "display": null,
            "flex": null,
            "flex_flow": null,
            "grid_area": null,
            "grid_auto_columns": null,
            "grid_auto_flow": null,
            "grid_auto_rows": null,
            "grid_column": null,
            "grid_gap": null,
            "grid_row": null,
            "grid_template_areas": null,
            "grid_template_columns": null,
            "grid_template_rows": null,
            "height": null,
            "justify_content": null,
            "justify_items": null,
            "left": null,
            "margin": null,
            "max_height": null,
            "max_width": null,
            "min_height": null,
            "min_width": null,
            "object_fit": null,
            "object_position": null,
            "order": null,
            "overflow": null,
            "overflow_x": null,
            "overflow_y": null,
            "padding": null,
            "right": null,
            "top": null,
            "visibility": null,
            "width": null
          }
        },
        "c75f3ba21e994e1c91a93d73990cd3df": {
          "model_module": "@jupyter-widgets/base",
          "model_name": "LayoutModel",
          "model_module_version": "1.2.0",
          "state": {
            "_model_module": "@jupyter-widgets/base",
            "_model_module_version": "1.2.0",
            "_model_name": "LayoutModel",
            "_view_count": null,
            "_view_module": "@jupyter-widgets/base",
            "_view_module_version": "1.2.0",
            "_view_name": "LayoutView",
            "align_content": null,
            "align_items": null,
            "align_self": null,
            "border": null,
            "bottom": null,
            "display": null,
            "flex": null,
            "flex_flow": null,
            "grid_area": null,
            "grid_auto_columns": null,
            "grid_auto_flow": null,
            "grid_auto_rows": null,
            "grid_column": null,
            "grid_gap": null,
            "grid_row": null,
            "grid_template_areas": null,
            "grid_template_columns": null,
            "grid_template_rows": null,
            "height": null,
            "justify_content": null,
            "justify_items": null,
            "left": null,
            "margin": null,
            "max_height": null,
            "max_width": null,
            "min_height": null,
            "min_width": null,
            "object_fit": null,
            "object_position": null,
            "order": null,
            "overflow": null,
            "overflow_x": null,
            "overflow_y": null,
            "padding": null,
            "right": null,
            "top": null,
            "visibility": null,
            "width": null
          }
        },
        "06b6bcd8b5df4c7caafe93b259194876": {
          "model_module": "@jupyter-widgets/controls",
          "model_name": "DescriptionStyleModel",
          "model_module_version": "1.5.0",
          "state": {
            "_model_module": "@jupyter-widgets/controls",
            "_model_module_version": "1.5.0",
            "_model_name": "DescriptionStyleModel",
            "_view_count": null,
            "_view_module": "@jupyter-widgets/base",
            "_view_module_version": "1.2.0",
            "_view_name": "StyleView",
            "description_width": ""
          }
        },
        "3a86ed2aae9f4676bf60b35305b22cac": {
          "model_module": "@jupyter-widgets/base",
          "model_name": "LayoutModel",
          "model_module_version": "1.2.0",
          "state": {
            "_model_module": "@jupyter-widgets/base",
            "_model_module_version": "1.2.0",
            "_model_name": "LayoutModel",
            "_view_count": null,
            "_view_module": "@jupyter-widgets/base",
            "_view_module_version": "1.2.0",
            "_view_name": "LayoutView",
            "align_content": null,
            "align_items": null,
            "align_self": null,
            "border": null,
            "bottom": null,
            "display": null,
            "flex": null,
            "flex_flow": null,
            "grid_area": null,
            "grid_auto_columns": null,
            "grid_auto_flow": null,
            "grid_auto_rows": null,
            "grid_column": null,
            "grid_gap": null,
            "grid_row": null,
            "grid_template_areas": null,
            "grid_template_columns": null,
            "grid_template_rows": null,
            "height": null,
            "justify_content": null,
            "justify_items": null,
            "left": null,
            "margin": null,
            "max_height": null,
            "max_width": null,
            "min_height": null,
            "min_width": null,
            "object_fit": null,
            "object_position": null,
            "order": null,
            "overflow": null,
            "overflow_x": null,
            "overflow_y": null,
            "padding": null,
            "right": null,
            "top": null,
            "visibility": null,
            "width": null
          }
        },
        "78ffc15e2000438cb56eaf7cb106102f": {
          "model_module": "@jupyter-widgets/controls",
          "model_name": "ProgressStyleModel",
          "model_module_version": "1.5.0",
          "state": {
            "_model_module": "@jupyter-widgets/controls",
            "_model_module_version": "1.5.0",
            "_model_name": "ProgressStyleModel",
            "_view_count": null,
            "_view_module": "@jupyter-widgets/base",
            "_view_module_version": "1.2.0",
            "_view_name": "StyleView",
            "bar_color": null,
            "description_width": ""
          }
        },
        "ea7db546d31e4f308174a5f58cc9f917": {
          "model_module": "@jupyter-widgets/base",
          "model_name": "LayoutModel",
          "model_module_version": "1.2.0",
          "state": {
            "_model_module": "@jupyter-widgets/base",
            "_model_module_version": "1.2.0",
            "_model_name": "LayoutModel",
            "_view_count": null,
            "_view_module": "@jupyter-widgets/base",
            "_view_module_version": "1.2.0",
            "_view_name": "LayoutView",
            "align_content": null,
            "align_items": null,
            "align_self": null,
            "border": null,
            "bottom": null,
            "display": null,
            "flex": null,
            "flex_flow": null,
            "grid_area": null,
            "grid_auto_columns": null,
            "grid_auto_flow": null,
            "grid_auto_rows": null,
            "grid_column": null,
            "grid_gap": null,
            "grid_row": null,
            "grid_template_areas": null,
            "grid_template_columns": null,
            "grid_template_rows": null,
            "height": null,
            "justify_content": null,
            "justify_items": null,
            "left": null,
            "margin": null,
            "max_height": null,
            "max_width": null,
            "min_height": null,
            "min_width": null,
            "object_fit": null,
            "object_position": null,
            "order": null,
            "overflow": null,
            "overflow_x": null,
            "overflow_y": null,
            "padding": null,
            "right": null,
            "top": null,
            "visibility": null,
            "width": null
          }
        },
        "e6e58d1307d246f5851b6968f5c176ab": {
          "model_module": "@jupyter-widgets/controls",
          "model_name": "DescriptionStyleModel",
          "model_module_version": "1.5.0",
          "state": {
            "_model_module": "@jupyter-widgets/controls",
            "_model_module_version": "1.5.0",
            "_model_name": "DescriptionStyleModel",
            "_view_count": null,
            "_view_module": "@jupyter-widgets/base",
            "_view_module_version": "1.2.0",
            "_view_name": "StyleView",
            "description_width": ""
          }
        },
        "67de422dc0544410ab566219e35b06e4": {
          "model_module": "@jupyter-widgets/controls",
          "model_name": "HBoxModel",
          "model_module_version": "1.5.0",
          "state": {
            "_dom_classes": [],
            "_model_module": "@jupyter-widgets/controls",
            "_model_module_version": "1.5.0",
            "_model_name": "HBoxModel",
            "_view_count": null,
            "_view_module": "@jupyter-widgets/controls",
            "_view_module_version": "1.5.0",
            "_view_name": "HBoxView",
            "box_style": "",
            "children": [
              "IPY_MODEL_d802b765061e400892d13e3ab5043a11",
              "IPY_MODEL_62ef2afdcada404f8f01d1405c504c16",
              "IPY_MODEL_ff3a2d70049d49cab8fcc1e40c629674"
            ],
            "layout": "IPY_MODEL_cd99fbe5d3574bec9d455b333847268e"
          }
        },
        "d802b765061e400892d13e3ab5043a11": {
          "model_module": "@jupyter-widgets/controls",
          "model_name": "HTMLModel",
          "model_module_version": "1.5.0",
          "state": {
            "_dom_classes": [],
            "_model_module": "@jupyter-widgets/controls",
            "_model_module_version": "1.5.0",
            "_model_name": "HTMLModel",
            "_view_count": null,
            "_view_module": "@jupyter-widgets/controls",
            "_view_module_version": "1.5.0",
            "_view_name": "HTMLView",
            "description": "",
            "description_tooltip": null,
            "layout": "IPY_MODEL_19be9ef1689c4497a3d576d258ce36db",
            "placeholder": "​",
            "style": "IPY_MODEL_202f9d8627d24364a70ff7d7b20be47a",
            "value": "Downloading: 100%"
          }
        },
        "62ef2afdcada404f8f01d1405c504c16": {
          "model_module": "@jupyter-widgets/controls",
          "model_name": "FloatProgressModel",
          "model_module_version": "1.5.0",
          "state": {
            "_dom_classes": [],
            "_model_module": "@jupyter-widgets/controls",
            "_model_module_version": "1.5.0",
            "_model_name": "FloatProgressModel",
            "_view_count": null,
            "_view_module": "@jupyter-widgets/controls",
            "_view_module_version": "1.5.0",
            "_view_name": "ProgressView",
            "bar_style": "success",
            "description": "",
            "description_tooltip": null,
            "layout": "IPY_MODEL_4bc20a7ee3b44ab8a5a68295112cc0bd",
            "max": 1340675298,
            "min": 0,
            "orientation": "horizontal",
            "style": "IPY_MODEL_63dfade5ac1c4061936fe301d117277f",
            "value": 1340675298
          }
        },
        "ff3a2d70049d49cab8fcc1e40c629674": {
          "model_module": "@jupyter-widgets/controls",
          "model_name": "HTMLModel",
          "model_module_version": "1.5.0",
          "state": {
            "_dom_classes": [],
            "_model_module": "@jupyter-widgets/controls",
            "_model_module_version": "1.5.0",
            "_model_name": "HTMLModel",
            "_view_count": null,
            "_view_module": "@jupyter-widgets/controls",
            "_view_module_version": "1.5.0",
            "_view_name": "HTMLView",
            "description": "",
            "description_tooltip": null,
            "layout": "IPY_MODEL_527628eb7f2649228a2e49ddfe07408b",
            "placeholder": "​",
            "style": "IPY_MODEL_b1442b65d6a046c9a4c3a1eeedb4ed8f",
            "value": " 1.34G/1.34G [00:32&lt;00:00, 47.1MB/s]"
          }
        },
        "cd99fbe5d3574bec9d455b333847268e": {
          "model_module": "@jupyter-widgets/base",
          "model_name": "LayoutModel",
          "model_module_version": "1.2.0",
          "state": {
            "_model_module": "@jupyter-widgets/base",
            "_model_module_version": "1.2.0",
            "_model_name": "LayoutModel",
            "_view_count": null,
            "_view_module": "@jupyter-widgets/base",
            "_view_module_version": "1.2.0",
            "_view_name": "LayoutView",
            "align_content": null,
            "align_items": null,
            "align_self": null,
            "border": null,
            "bottom": null,
            "display": null,
            "flex": null,
            "flex_flow": null,
            "grid_area": null,
            "grid_auto_columns": null,
            "grid_auto_flow": null,
            "grid_auto_rows": null,
            "grid_column": null,
            "grid_gap": null,
            "grid_row": null,
            "grid_template_areas": null,
            "grid_template_columns": null,
            "grid_template_rows": null,
            "height": null,
            "justify_content": null,
            "justify_items": null,
            "left": null,
            "margin": null,
            "max_height": null,
            "max_width": null,
            "min_height": null,
            "min_width": null,
            "object_fit": null,
            "object_position": null,
            "order": null,
            "overflow": null,
            "overflow_x": null,
            "overflow_y": null,
            "padding": null,
            "right": null,
            "top": null,
            "visibility": null,
            "width": null
          }
        },
        "19be9ef1689c4497a3d576d258ce36db": {
          "model_module": "@jupyter-widgets/base",
          "model_name": "LayoutModel",
          "model_module_version": "1.2.0",
          "state": {
            "_model_module": "@jupyter-widgets/base",
            "_model_module_version": "1.2.0",
            "_model_name": "LayoutModel",
            "_view_count": null,
            "_view_module": "@jupyter-widgets/base",
            "_view_module_version": "1.2.0",
            "_view_name": "LayoutView",
            "align_content": null,
            "align_items": null,
            "align_self": null,
            "border": null,
            "bottom": null,
            "display": null,
            "flex": null,
            "flex_flow": null,
            "grid_area": null,
            "grid_auto_columns": null,
            "grid_auto_flow": null,
            "grid_auto_rows": null,
            "grid_column": null,
            "grid_gap": null,
            "grid_row": null,
            "grid_template_areas": null,
            "grid_template_columns": null,
            "grid_template_rows": null,
            "height": null,
            "justify_content": null,
            "justify_items": null,
            "left": null,
            "margin": null,
            "max_height": null,
            "max_width": null,
            "min_height": null,
            "min_width": null,
            "object_fit": null,
            "object_position": null,
            "order": null,
            "overflow": null,
            "overflow_x": null,
            "overflow_y": null,
            "padding": null,
            "right": null,
            "top": null,
            "visibility": null,
            "width": null
          }
        },
        "202f9d8627d24364a70ff7d7b20be47a": {
          "model_module": "@jupyter-widgets/controls",
          "model_name": "DescriptionStyleModel",
          "model_module_version": "1.5.0",
          "state": {
            "_model_module": "@jupyter-widgets/controls",
            "_model_module_version": "1.5.0",
            "_model_name": "DescriptionStyleModel",
            "_view_count": null,
            "_view_module": "@jupyter-widgets/base",
            "_view_module_version": "1.2.0",
            "_view_name": "StyleView",
            "description_width": ""
          }
        },
        "4bc20a7ee3b44ab8a5a68295112cc0bd": {
          "model_module": "@jupyter-widgets/base",
          "model_name": "LayoutModel",
          "model_module_version": "1.2.0",
          "state": {
            "_model_module": "@jupyter-widgets/base",
            "_model_module_version": "1.2.0",
            "_model_name": "LayoutModel",
            "_view_count": null,
            "_view_module": "@jupyter-widgets/base",
            "_view_module_version": "1.2.0",
            "_view_name": "LayoutView",
            "align_content": null,
            "align_items": null,
            "align_self": null,
            "border": null,
            "bottom": null,
            "display": null,
            "flex": null,
            "flex_flow": null,
            "grid_area": null,
            "grid_auto_columns": null,
            "grid_auto_flow": null,
            "grid_auto_rows": null,
            "grid_column": null,
            "grid_gap": null,
            "grid_row": null,
            "grid_template_areas": null,
            "grid_template_columns": null,
            "grid_template_rows": null,
            "height": null,
            "justify_content": null,
            "justify_items": null,
            "left": null,
            "margin": null,
            "max_height": null,
            "max_width": null,
            "min_height": null,
            "min_width": null,
            "object_fit": null,
            "object_position": null,
            "order": null,
            "overflow": null,
            "overflow_x": null,
            "overflow_y": null,
            "padding": null,
            "right": null,
            "top": null,
            "visibility": null,
            "width": null
          }
        },
        "63dfade5ac1c4061936fe301d117277f": {
          "model_module": "@jupyter-widgets/controls",
          "model_name": "ProgressStyleModel",
          "model_module_version": "1.5.0",
          "state": {
            "_model_module": "@jupyter-widgets/controls",
            "_model_module_version": "1.5.0",
            "_model_name": "ProgressStyleModel",
            "_view_count": null,
            "_view_module": "@jupyter-widgets/base",
            "_view_module_version": "1.2.0",
            "_view_name": "StyleView",
            "bar_color": null,
            "description_width": ""
          }
        },
        "527628eb7f2649228a2e49ddfe07408b": {
          "model_module": "@jupyter-widgets/base",
          "model_name": "LayoutModel",
          "model_module_version": "1.2.0",
          "state": {
            "_model_module": "@jupyter-widgets/base",
            "_model_module_version": "1.2.0",
            "_model_name": "LayoutModel",
            "_view_count": null,
            "_view_module": "@jupyter-widgets/base",
            "_view_module_version": "1.2.0",
            "_view_name": "LayoutView",
            "align_content": null,
            "align_items": null,
            "align_self": null,
            "border": null,
            "bottom": null,
            "display": null,
            "flex": null,
            "flex_flow": null,
            "grid_area": null,
            "grid_auto_columns": null,
            "grid_auto_flow": null,
            "grid_auto_rows": null,
            "grid_column": null,
            "grid_gap": null,
            "grid_row": null,
            "grid_template_areas": null,
            "grid_template_columns": null,
            "grid_template_rows": null,
            "height": null,
            "justify_content": null,
            "justify_items": null,
            "left": null,
            "margin": null,
            "max_height": null,
            "max_width": null,
            "min_height": null,
            "min_width": null,
            "object_fit": null,
            "object_position": null,
            "order": null,
            "overflow": null,
            "overflow_x": null,
            "overflow_y": null,
            "padding": null,
            "right": null,
            "top": null,
            "visibility": null,
            "width": null
          }
        },
        "b1442b65d6a046c9a4c3a1eeedb4ed8f": {
          "model_module": "@jupyter-widgets/controls",
          "model_name": "DescriptionStyleModel",
          "model_module_version": "1.5.0",
          "state": {
            "_model_module": "@jupyter-widgets/controls",
            "_model_module_version": "1.5.0",
            "_model_name": "DescriptionStyleModel",
            "_view_count": null,
            "_view_module": "@jupyter-widgets/base",
            "_view_module_version": "1.2.0",
            "_view_name": "StyleView",
            "description_width": ""
          }
        }
      }
    }
  },
  "nbformat": 4,
  "nbformat_minor": 0
}